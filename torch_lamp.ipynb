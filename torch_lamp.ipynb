{
  "nbformat": 4,
  "nbformat_minor": 0,
  "metadata": {
    "colab": {
      "name": "torch_lamp.ipynb",
      "provenance": []
    },
    "kernelspec": {
      "name": "python3",
      "display_name": "Python 3"
    },
    "accelerator": "GPU"
  },
  "cells": [
    {
      "cell_type": "code",
      "metadata": {
        "id": "Z0bkeETfN5vE",
        "colab_type": "code",
        "colab": {}
      },
      "source": [
        "import numpy as np\n",
        "import torch\n",
        "import torch.nn as nn\n",
        "import torch.nn.functional as F\n",
        "import matplotlib.pyplot as plt"
      ],
      "execution_count": 0,
      "outputs": []
    },
    {
      "cell_type": "code",
      "metadata": {
        "id": "9Wopyurh2aZr",
        "colab_type": "code",
        "colab": {}
      },
      "source": [
        "device = torch.device('cuda')"
      ],
      "execution_count": 0,
      "outputs": []
    },
    {
      "cell_type": "code",
      "metadata": {
        "id": "jr42Cg2G7uwf",
        "colab_type": "code",
        "colab": {}
      },
      "source": [
        "class AMP_layer(nn.Module): #this is the pwlin AMP implementation of found on boergerding et al, \n",
        "  def __init__(self, A,device=device):\n",
        "   super(AMP_layer,self).__init__()\n",
        "   self.N= A.shape[1]\n",
        "   self.M= A.shape[0]\n",
        "   self.A_t= nn.Parameter(torch.tensor(A, device= device,requires_grad=True).float())\n",
        "   self.A_p= nn.Parameter(torch.tensor(A.T, device= device, requires_grad=False).float())\n",
        "   self.theta_0=nn.Parameter(torch.tensor(1.0,device= device,requires_grad=True))\n",
        "   self.theta_1= nn.Parameter(torch.tensor(1.0,device= device,requires_grad=True))\n",
        "   self.theta_2=nn.Parameter(torch.tensor(1.0,device= device,requires_grad=True))\n",
        "   self.theta_3=nn.Parameter(torch.tensor(1.0,device= device,requires_grad=True))\n",
        "   self.theta_4=nn.Parameter(torch.tensor(1.0,device= device,requires_grad=True))\n",
        "   self.beta=nn.Parameter(torch.tensor(1.0,device= device,requires_grad=True))\n",
        "  \n",
        "  def non_linearity(self,r,rvar,theta): # a general non-linearity would \n",
        "   ab0 = theta[0]                       #need to have inputs (r, variance_estimator, params_list)\n",
        "   ab1 = theta[1]                       # and outputs of form (xhat, dvtv of vector xhat wrt vector r)\n",
        "   sl0 = theta[2]\n",
        "   sl1 = theta[3]\n",
        "   sl2 = theta[4]\n",
        "\n",
        "   # scale each column by sqrt(rvar)\n",
        "   scale_out = torch.sqrt(rvar)\n",
        "   scale_in = 1/scale_out\n",
        "   rs = torch.sign(r*scale_in)\n",
        "   ra = torch.abs(r*scale_in)\n",
        "   \n",
        "   # split the piecewise linear function into regions\n",
        "   rgn0 = ( ra<ab0).float()#type(torch.FloatTensor)\n",
        "   rgn1 = (( ra<ab1).float() - rgn0)#type(torch.FloatTensor)\n",
        "   rgn2 = ( ra>=ab1).float()#type(torch.FloatTensor)\n",
        "   xhat = scale_out * rs*(\n",
        "          rgn0*sl0*ra +\n",
        "          rgn1*(sl1*(ra - ab0) + sl0*ab0 ) +\n",
        "          rgn2*(sl2*(ra - ab1) +  sl0*ab0 + sl1*(ab1-ab0) )\n",
        "          )\n",
        "   dxdr =  sl0*rgn0 + sl1*rgn1 + sl2*rgn2\n",
        "   \n",
        "   dxdr = torch.mean(dxdr,1, keepdim=True)\n",
        "   \n",
        "   return (xhat,dxdr)\n",
        "\n",
        "  def forward(self, inputs):\n",
        "        \n",
        "        r= inputs[0]+torch.mm(inputs[1],self.A_t)\n",
        "        nor= (torch.norm(inputs[1],dim=-1,keepdim=True))**2\n",
        "        x_hat, dxdr= self.non_linearity(r,nor, [self.theta_0, self.theta_1,self.theta_2,self.theta_3,self.theta_4,])\n",
        "        v= inputs[2]- torch.mm(x_hat,self.A_p) + self.beta*dxdr*self.N/self.M*inputs[1]\n",
        "        return (x_hat,v)"
      ],
      "execution_count": 0,
      "outputs": []
    },
    {
      "cell_type": "code",
      "metadata": {
        "id": "dl1OvXmHMVaj",
        "colab_type": "code",
        "colab": {}
      },
      "source": [
        "class Model_AMP(nn.Module):                             #constructs a meta-module\n",
        "  def __init__(self, A,num_layers=7):                   #outputs a list of tensors\n",
        "    super(Model_AMP,self).__init__()                    #each of  which can be input to loss function\n",
        "    self.num_layers= num_layers\n",
        "    self.model_list= [None]*num_layers\n",
        "    for i in range(0, self.num_layers):\n",
        "      self.model_list[i]=AMP_layer(A)\n",
        "    self.outputs= [None]*self.num_layers\n",
        "   \n",
        "  def forward(self,inputs,):\n",
        "    i_layer=0\n",
        "    self.outputs[0]= self.model_list[0](inputs)\n",
        "    for i_layer in range(1,self.num_layers):\n",
        "      self.outputs[i_layer]=self.model_list[i_layer]([self.outputs[i_layer-1][0],self.outputs[i_layer-1][1],inputs[2]])\n",
        "    return self.outputs\n",
        "      "
      ],
      "execution_count": 0,
      "outputs": []
    },
    {
      "cell_type": "code",
      "metadata": {
        "id": "ZO6Cy6cTBm0q",
        "colab_type": "code",
        "colab": {}
      },
      "source": [
        "N=500\n",
        "num_epochs=100\n",
        "M=int(0.5*N)\n",
        "A= np.random.randn(M,N)/M**0.5\n",
        "rho=0.05#sparsity level\n",
        "snr_dB=40\n",
        "noise_scale=10**(-snr_dB/10)\n",
        "num_layers=10\n",
        "model_AMP= Model_AMP(A, num_layers).to(device)\n",
        "\n",
        "def data_gen(n_sims,A=A,snr=40,rho=0.11):\n",
        "    N= A.shape[1]\n",
        "    M= A.shape[0]\n",
        "    mask_vecs=np.random.binomial(1,rho,size=(n_sims,N))#*np.random.exponential(scale=1, size=(N,n_sims))\n",
        "    x_true_all= mask_vecs**0.5*np.random.randn(n_sims,N)\n",
        "    noise_scale=10**(-snr/10)\n",
        "    y_all= x_true_all@A.T + noise_scale**0.5*np.random.randn(n_sims,M)/(M**0.5)\n",
        "    n_sims_1=int(n_sims/100)\n",
        "    gamma_vecs_1=np.random.binomial(1,rho,size=(n_sims_1,N))\n",
        "    x_true_all_vali= gamma_vecs_1**0.5*np.random.randn(n_sims_1,N)\n",
        "    y_all_vali= x_true_all_vali@A.T + 10**(-snr*0.5/10)*np.random.randn(n_sims_1,M)*((rho*N/M)**0.5)\n",
        "    input_x_1=np.zeros_like(x_true_all_vali)\n",
        "    return x_true_all, y_all"
      ],
      "execution_count": 0,
      "outputs": []
    },
    {
      "cell_type": "code",
      "metadata": {
        "id": "6u2tzjnpUU71",
        "colab_type": "code",
        "colab": {}
      },
      "source": [
        "#%%capture\n",
        "snr_train=40\n",
        "x_true_all_, y_all_= data_gen(1000,snr=snr_train)\n",
        "x_true_all=torch.from_numpy(x_true_all_).float().to(device)\n",
        "y_all=torch.from_numpy(y_all_).float().to(device)\n",
        "y_all_zero=torch.from_numpy(0*y_all_).float().to(device)\n",
        "input_x=torch.from_numpy(np.zeros_like(x_true_all_)).float().to(device)\n",
        "#input_x_1=torch.from_numpy(np.zeros_like(x_true_all_vali)).float().to(device)\n",
        "#out_list=model_AMP([input_x,y_all,y_all])\n",
        "\n",
        "optim_list= [None]*num_layers\n",
        "lr_1=3e-2\n",
        "lr_2= 8e-3\n",
        "lr= lr_1\n",
        "for i in range(num_layers):\n",
        "  if i >=2:\n",
        "    lr= lr_2\n",
        "  optim_list[i]=torch.optim.Adam(model_AMP.model_list[i].parameters(), lr=lr)"
      ],
      "execution_count": 0,
      "outputs": []
    },
    {
      "cell_type": "code",
      "metadata": {
        "id": "fSFbRUvvgE56",
        "colab_type": "code",
        "outputId": "b2e564a0-baa9-4984-fec2-24f81d69ba39",
        "colab": {
          "base_uri": "https://localhost:8080/",
          "height": 53
        }
      },
      "source": [
        "# %%time\n",
        "# %%capture\n",
        "torch.cuda.empty_cache()\n",
        "num_epochs=500\n",
        "for i_layer in range(num_layers):\n",
        "  opt= optim_list[i_layer]\n",
        "  criterion = nn.MSELoss()\n",
        "  for i_epoch in range(num_epochs):\n",
        "    opt.zero_grad()\n",
        "    x_true_all_, y_all_= data_gen(200,snr=snr_train, rho=0.13)\n",
        "    x_true_all=torch.from_numpy(x_true_all_).float().to(device)\n",
        "    y_all=torch.from_numpy(y_all_).float().to(device)\n",
        "    input_x=torch.from_numpy(np.zeros_like(x_true_all_)).float().to(device)\n",
        "    outputs=model_AMP([input_x,y_all,y_all])\n",
        "    loss= criterion(outputs[i_layer][0],x_true_all)\n",
        "    #if i_epoch%5==0:\n",
        "    # print(\"layer: %2.0f i:%2.0f, loss:%f\"%(i_layer,i_epoch,loss.item()))\n",
        "    loss.backward()\n",
        "    opt.step()\n",
        "  max_iter_2=i_layer\n",
        "#   for param in model_AMP.model_list[i_layer].parameters():\n",
        "#     param.requires_grad_(False)\n",
        "   "
      ],
      "execution_count": 9,
      "outputs": [
        {
          "output_type": "stream",
          "text": [
            "CPU times: user 4min 31s, sys: 3min 3s, total: 7min 35s\n",
            "Wall time: 3min 55s\n"
          ],
          "name": "stdout"
        }
      ]
    },
    {
      "cell_type": "code",
      "metadata": {
        "id": "RcHyl5S-GJpv",
        "colab_type": "code",
        "colab": {}
      },
      "source": [
        "for i_layer in range(num_layers):\n",
        "  for param in model_AMP.model_list[i_layer].parameters():\n",
        "      param.requires_grad_(True)"
      ],
      "execution_count": 0,
      "outputs": []
    },
    {
      "cell_type": "code",
      "metadata": {
        "id": "o3xuDsUhJYLk",
        "colab_type": "code",
        "outputId": "27a8e428-a773-4294-b665-d84ea59f7342",
        "colab": {
          "base_uri": "https://localhost:8080/",
          "height": 295
        }
      },
      "source": [
        "#max_iter_2=8\n",
        "def error_prob_detect(x,x_hat, thresh_x_hat=10, thresh_x=1e-2):\n",
        "    ind_x_true= (np.abs(x)>thresh_x).astype(np.float64)\n",
        "    ind_x_hat=((x_hat)>thresh_x_hat).astype(np.float64)\n",
        "    f_a= np.sum(np.abs(ind_x_hat)*(1-ind_x_true))/np.sum(1-ind_x_true)\n",
        "    m_d=np.sum(np.abs(1-ind_x_hat)*(ind_x_true))/np.sum(ind_x_true)\n",
        "    return f_a,m_d\n",
        "\n",
        "x_true_all, y_all=data_gen(1000)\n",
        "num_snr=10\n",
        "snr_list=np.linspace(0,30,num_snr)\n",
        "mse_list= [0]*max_iter_2\n",
        "rho_list=np.linspace(0.01,0.2,num_snr)\n",
        "list_lists=[mse_list,rho_list,snr_list]\n",
        "plot_index=0\n",
        "fa_list_snr= [0]*len(snr_list)\n",
        "md_list_snr=[0]*len(snr_list)\n",
        "fa_list_iter= [0]*(max_iter_2)\n",
        "md_list_iter= [0]*(max_iter_2)\n",
        "fa_list_rho= [0]*len(snr_list)\n",
        "md_list_rho=[0]*len(snr_list)\n",
        "if plot_index==0:\n",
        "  err_list= [0]*(max_iter_2)\n",
        "else:\n",
        "  err_list= [0]*len(snr_list)\n",
        "x1=np.linalg.norm(x_true_all)\n",
        "x_norm=np.mean(x_true_all**2)\n",
        "num_avg=10\n",
        "for i_list,_ in enumerate(list_lists[plot_index]):\n",
        "        n_sims_plot=500\n",
        "        if plot_index==0:\n",
        "          x_true_all_, y_all_=data_gen(n_sims_plot, snr=30, rho=0.10)\n",
        "          y_all=torch.from_numpy(y_all_).float().to(device)\n",
        "          input_x=torch.from_numpy(np.zeros_like(x_true_all_)).float().to(device)\n",
        "          outputs=model_AMP([input_x,y_all,y_all])\n",
        "          z=outputs[i_list][0].cpu().detach().numpy()\n",
        "          err_list[i_list]+= np.mean((x_true_all_-z)**2)/np.mean(x_true_all_**2)\n",
        "#           fa_list_iter[i_list], md_list_iter[i_list] = error_prob_detect(x_norm_1,z_norm, thresh_x=0.00001, thresh_x_hat=0.1)\n",
        "          \n",
        "        elif plot_index==2:\n",
        "          x_true_all, y_all=data_gen(n_sims_plot, snr=10, rho=rho_list[i_list])\n",
        "          input_x=np.zeros_like(x_true_all)\n",
        "          z=Models_list[max_iter_2].predict([input_x,y_all,y_all])\n",
        "          z_norm= norm_vector(z)\n",
        "          x_norm_1= norm_vector(x_true_all)\n",
        "          err_list[i_list]+= np.sum((x_true_all-z)**2)*(0.1)**2/(x_norm*n_sims_plot*rho_list[i_list]**2)\n",
        "          fa_list_rho[i_list], md_list_rho[i_list] = error_prob_detect(x_norm_1,z_norm, thresh_x=0.00001, thresh_x_hat=0.001)\n",
        "          \n",
        "          \n",
        "        elif plot_index==1:  \n",
        "          x_true_all, y_all=data_gen(n_sims_plot//4, snr=snr_list[i_list], rho=0.1)\n",
        "          input_x=np.zeros_like(x_true_all)\n",
        "          z=Models_list[max_iter_2].predict([input_x,y_all,y_all])\n",
        "          z_norm= norm_vector(z)\n",
        "          x_norm_1= norm_vector(x_true_all)\n",
        "          err_list[i_list]+= 2*np.sum((x_true_all-z)**2)/(x_norm*n_sims_plot)\n",
        "          fa_list_snr[i_list], md_list_snr[i_list] = error_prob_detect(x_norm_1,z_norm, thresh_x=0.00001, thresh_x_hat=0.1)\n",
        "        \n",
        "        \n",
        "\n",
        "if plot_index==0:\n",
        "  plt.semilogy(err_list)\n",
        "  plt.title('MSE vs iter at 30dB, p=0.1')\n",
        "  plt.xlabel('iter')\n",
        "  plt.ylabel('MSE')\n",
        "  plt.grid()\n",
        "\n",
        "elif plot_index==1:\n",
        "  plt.semilogy(snr_list,err_list)\n",
        "  plt.title('MSE vs SNR at p=0.1')\n",
        "  plt.xlabel('SNR')\n",
        "  plt.ylabel('MSE')\n",
        "  plt.grid()\n",
        "  \n",
        "\n",
        "elif plot_index==2:\n",
        "  plt.semilogy(rho_list,err_list)\n",
        "  plt.title('MSE vs p at SNR=30dB')\n",
        "  plt.xlabel('p')\n",
        "  plt.ylabel('MSE')\n",
        "  plt.grid()"
      ],
      "execution_count": 11,
      "outputs": [
        {
          "output_type": "display_data",
          "data": {
            "image/png": "[encoded data removed]",
            "text/plain": [
              "<Figure size 432x288 with 1 Axes>"
            ]
          },
          "metadata": {
            "tags": []
          }
        }
      ]
    },
    {
      "cell_type": "code",
      "metadata": {
        "id": "_cGvO8En67Da",
        "colab_type": "code",
        "colab": {
          "base_uri": "https://localhost:8080/",
          "height": 303
        },
        "outputId": "b20d4c6c-4712-4209-d041-dedd444a2d9d"
      },
      "source": [
        "!nvidia-smi"
      ],
      "execution_count": 12,
      "outputs": [
        {
          "output_type": "stream",
          "text": [
            "Tue Oct 29 00:49:37 2019       \n",
            "+-----------------------------------------------------------------------------+\n",
            "| NVIDIA-SMI 430.50       Driver Version: 418.67       CUDA Version: 10.1     |\n",
            "|-------------------------------+----------------------+----------------------+\n",
            "| GPU  Name        Persistence-M| Bus-Id        Disp.A | Volatile Uncorr. ECC |\n",
            "| Fan  Temp  Perf  Pwr:Usage/Cap|         Memory-Usage | GPU-Util  Compute M. |\n",
            "|===============================+======================+======================|\n",
            "|   0  Tesla K80           Off  | 00000000:00:04.0 Off |                    0 |\n",
            "| N/A   55C    P0    58W / 149W |    645MiB / 11441MiB |      0%      Default |\n",
            "+-------------------------------+----------------------+----------------------+\n",
            "                                                                               \n",
            "+-----------------------------------------------------------------------------+\n",
            "| Processes:                                                       GPU Memory |\n",
            "|  GPU       PID   Type   Process name                             Usage      |\n",
            "|=============================================================================|\n",
            "+-----------------------------------------------------------------------------+\n"
          ],
          "name": "stdout"
        }
      ]
    },
    {
      "cell_type": "code",
      "metadata": {
        "id": "zkfNJvGj_bn6",
        "colab_type": "code",
        "colab": {}
      },
      "source": [
        ""
      ],
      "execution_count": 0,
      "outputs": []
    }
  ]
}
