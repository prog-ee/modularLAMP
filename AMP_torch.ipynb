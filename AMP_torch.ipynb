{
  "nbformat": 4,
  "nbformat_minor": 0,
  "metadata": {
    "colab": {
      "name": "AMP_torch.ipynb",
      "provenance": [],
      "collapsed_sections": []
    },
    "kernelspec": {
      "name": "python3",
      "display_name": "Python 3"
    },
    "accelerator": "GPU"
  },
  "cells": [
    {
      "cell_type": "code",
      "metadata": {
        "id": "Z0bkeETfN5vE",
        "colab_type": "code",
        "colab": {}
      },
      "source": [
        "import numpy as np\n",
        "import torch\n",
        "import torch.nn as nn\n",
        "import torch.nn.functional as F\n",
        "import matplotlib.pyplot as plt"
      ],
      "execution_count": 0,
      "outputs": []
    },
    {
      "cell_type": "code",
      "metadata": {
        "id": "WC7uV3mt8HO5",
        "colab_type": "code",
        "colab": {}
      },
      "source": [
        "device = torch.device('cuda')"
      ],
      "execution_count": 0,
      "outputs": []
    },
    {
      "cell_type": "code",
      "metadata": {
        "id": "OW8JdaUBN83v",
        "colab_type": "code",
        "colab": {}
      },
      "source": [
        "def data_gen_MLE(mean_mat,n_batches=100, noise_var=0.01):\n",
        "  num_classes= mean_mat.shape[0]\n",
        "  id_mat= np.eye(num_classes)\n",
        "  inds= np.random.randint(low=0, high=num_classes,size=(n_batches,))\n",
        "  x=mean_mat[inds]+ noise_var*np.random.randn(n_batches,2)\n",
        "  y= id_mat[inds,:]\n",
        "  return (x,inds)\n"
      ],
      "execution_count": 0,
      "outputs": []
    },
    {
      "cell_type": "code",
      "metadata": {
        "id": "LTqUyGybPcWx",
        "colab_type": "code",
        "colab": {}
      },
      "source": [
        "class MLP(nn.Module):\n",
        "  def __init__(self, input_dim, layer_sizes=[7,5,mean_mat.shape[0]]):\n",
        "   super(MLP,self).__init__()\n",
        "   self.input_dim= input_dim\n",
        "   self.layer_sizes= layer_sizes\n",
        "   self.lin1= nn.Linear(self.input_dim,self.layer_sizes[0])\n",
        "   self.lin2= nn.Linear(self.layer_sizes[0],self.layer_sizes[1])\n",
        "   self.lin3= nn.Linear(self.layer_sizes[1], self.layer_sizes[2])\n",
        "   self.sftmx= nn.Softmax(-1)\n",
        "  \n",
        "  def forward(self, x):\n",
        "    out= F.sigmoid(self.lin1(x))\n",
        "    out= F.sigmoid(self.lin2(out))\n",
        "    out= self.lin3(out)\n",
        "    out= self.sftmx(out)\n",
        "    return out\n",
        "  \n",
        "    \n",
        "  "
      ],
      "execution_count": 0,
      "outputs": []
    },
    {
      "cell_type": "code",
      "metadata": {
        "id": "jr42Cg2G7uwf",
        "colab_type": "code",
        "colab": {}
      },
      "source": [
        "class AMP_layer(nn.Module):\n",
        "  def __init__(self, A,device=device):\n",
        "   super(AMP_layer,self).__init__()\n",
        "   self.N= A.shape[1]\n",
        "   self.M= A.shape[0]\n",
        "   self.A_t= nn.Parameter(torch.tensor(A, device= device,requires_grad=True).float())\n",
        "   self.A_p= nn.Parameter(torch.tensor(A.T, device= device, requires_grad=False).float())\n",
        "   self.theta_0=nn.Parameter(torch.tensor(1.0,device= device,requires_grad=True))\n",
        "   self.theta_1= nn.Parameter(torch.tensor(1.0,device= device,requires_grad=True))\n",
        "   self.theta_2=nn.Parameter(torch.tensor(1.0,device= device,requires_grad=True))\n",
        "   self.theta_3=nn.Parameter(torch.tensor(1.0,device= device,requires_grad=True))\n",
        "   self.theta_4=nn.Parameter(torch.tensor(1.0,device= device,requires_grad=True))\n",
        "   self.beta=nn.Parameter(torch.tensor(1.0,device= device,requires_grad=True))\n",
        "  \n",
        "  def non_linearity(self,r,rvar,theta):\n",
        "   ab0 = theta[0]\n",
        "   ab1 = theta[1]\n",
        "   sl0 = theta[2]\n",
        "   sl1 = theta[3]\n",
        "   sl2 = theta[4]\n",
        "\n",
        "   # scale each column by sqrt(rvar)\n",
        "   scale_out = torch.sqrt(rvar)\n",
        "   scale_in = 1/scale_out\n",
        "   rs = torch.sign(r*scale_in)\n",
        "   ra = torch.abs(r*scale_in)\n",
        "   \n",
        "   # split the piecewise linear function into regions\n",
        "   rgn0 = ( ra<ab0).float()#type(torch.FloatTensor)\n",
        "   rgn1 = (( ra<ab1).float() - rgn0)#type(torch.FloatTensor)\n",
        "   rgn2 = ( ra>=ab1).float()#type(torch.FloatTensor)\n",
        "   xhat = scale_out * rs*(\n",
        "          rgn0*sl0*ra +\n",
        "          rgn1*(sl1*(ra - ab0) + sl0*ab0 ) +\n",
        "          rgn2*(sl2*(ra - ab1) +  sl0*ab0 + sl1*(ab1-ab0) )\n",
        "          )\n",
        "   dxdr =  sl0*rgn0 + sl1*rgn1 + sl2*rgn2\n",
        "   \n",
        "   dxdr = torch.mean(dxdr,1, keepdim=True)\n",
        "   \n",
        "   return (xhat,dxdr)\n",
        "\n",
        "  def forward(self, inputs):\n",
        "        \n",
        "        r= inputs[0]+torch.mm(inputs[1],self.A_t)\n",
        "        nor= (torch.norm(inputs[1],dim=-1,keepdim=True))**2\n",
        "        x_hat, dxdr= self.non_linearity(r,nor, [self.theta_0, self.theta_1,self.theta_2,self.theta_3,self.theta_4,])\n",
        "        v= inputs[2]- torch.mm(x_hat,self.A_p) + self.beta*dxdr*self.N/self.M*inputs[1]\n",
        "        return (x_hat,v)"
      ],
      "execution_count": 0,
      "outputs": []
    },
    {
      "cell_type": "code",
      "metadata": {
        "id": "dl1OvXmHMVaj",
        "colab_type": "code",
        "colab": {}
      },
      "source": [
        "class Model_AMP(nn.Module):\n",
        "  def __init__(self, A,num_layers=7):\n",
        "    super(Model_AMP,self).__init__()\n",
        "    self.num_layers= num_layers\n",
        "    self.model_list= [None]*num_layers\n",
        "    for i in range(0, self.num_layers):\n",
        "      self.model_list[i]=AMP_layer(A)\n",
        "    self.outputs= [None]*self.num_layers\n",
        "   \n",
        "  def forward(self,inputs,):\n",
        "    i_layer=0\n",
        "    self.outputs[0]= self.model_list[0](inputs)\n",
        "    for i_layer in range(1,self.num_layers):\n",
        "      self.outputs[i_layer]=self.model_list[i_layer]([self.outputs[i_layer-1][0],self.outputs[i_layer-1][1],inputs[2]])\n",
        "    return self.outputs\n",
        "      "
      ],
      "execution_count": 0,
      "outputs": []
    },
    {
      "cell_type": "code",
      "metadata": {
        "id": "Q0dn38oUXmoX",
        "colab_type": "code",
        "colab": {}
      },
      "source": [
        "class Model_AMP_no_list(nn.Module):\n",
        "  def __init__(self, A,num_layers=7):\n",
        "    super(Model_AMP_no_list,self).__init__()\n",
        "    self.num_layers= num_layers\n",
        "    self.model_list= [None]*num_layers\n",
        "    for i in range(0, self.num_layers):\n",
        "      self.model_list[i]=AMP_layer(A)\n",
        "   \n",
        "  def forward(self,inputs,iter_index=0):\n",
        "    i_layer=0\n",
        "    outputs= self.model_list[0](inputs)\n",
        "    for i_layer in range(1, iter_index+1):\n",
        "      outputs=self.model_list[i_layer]([outputs[0],outputs[1],inputs[2]])\n",
        "    return outputs\n",
        "      "
      ],
      "execution_count": 0,
      "outputs": []
    },
    {
      "cell_type": "code",
      "metadata": {
        "id": "ZO6Cy6cTBm0q",
        "colab_type": "code",
        "colab": {}
      },
      "source": [
        "N=500\n",
        "num_epochs=100\n",
        "M=int(0.5*N)\n",
        "A= np.random.randn(M,N)/M**0.5\n",
        "rho=0.05#sparsity level\n",
        "snr_dB=40\n",
        "noise_scale=10**(-snr_dB/10)\n",
        "num_layers=10\n",
        "model_AMP= Model_AMP(A, num_layers).to(device)\n",
        "\n",
        "def data_gen(n_sims,A=A,snr=40,rho=0.11):\n",
        "    N= A.shape[1]\n",
        "    M= A.shape[0]\n",
        "    mask_vecs=np.random.binomial(1,rho,size=(n_sims,N))#*np.random.exponential(scale=1, size=(N,n_sims))\n",
        "    x_true_all= mask_vecs**0.5*np.random.randn(n_sims,N)\n",
        "    noise_scale=10**(-snr/10)\n",
        "    y_all= x_true_all@A.T + noise_scale**0.5*np.random.randn(n_sims,M)/(M**0.5)\n",
        "    n_sims_1=int(n_sims/100)\n",
        "    gamma_vecs_1=np.random.binomial(1,rho,size=(n_sims_1,N))\n",
        "    x_true_all_vali= gamma_vecs_1**0.5*np.random.randn(n_sims_1,N)\n",
        "    y_all_vali= x_true_all_vali@A.T + 10**(-snr*0.5/10)*np.random.randn(n_sims_1,M)*((rho*N/M)**0.5)\n",
        "    input_x_1=np.zeros_like(x_true_all_vali)\n",
        "    return x_true_all, y_all"
      ],
      "execution_count": 0,
      "outputs": []
    },
    {
      "cell_type": "code",
      "metadata": {
        "id": "6u2tzjnpUU71",
        "colab_type": "code",
        "colab": {}
      },
      "source": [
        "%%capture\n",
        "snr_train=40\n",
        "x_true_all_, y_all_= data_gen(1000,snr=snr_train)\n",
        "x_true_all=torch.from_numpy(x_true_all_).float().to(device)\n",
        "y_all=torch.from_numpy(y_all_).float().to(device)\n",
        "y_all_zero=torch.from_numpy(0*y_all_).float().to(device)\n",
        "input_x=torch.from_numpy(np.zeros_like(x_true_all_)).float().to(device)\n",
        "#input_x_1=torch.from_numpy(np.zeros_like(x_true_all_vali)).float().to(device)\n",
        "#out_list=model_AMP([input_x,y_all,y_all])\n",
        "\n",
        "optim_list= [None]*num_layers\n",
        "lr_1=3e-2\n",
        "lr_2= 8e-3\n",
        "lr= lr_1\n",
        "for i in range(num_layers):\n",
        "  if i >=2:\n",
        "    lr= lr_2\n",
        "  optim_list[i]=torch.optim.Adam(model_AMP.model_list[i].parameters(), lr=lr)"
      ],
      "execution_count": 0,
      "outputs": []
    },
    {
      "cell_type": "code",
      "metadata": {
        "id": "fSFbRUvvgE56",
        "colab_type": "code",
        "outputId": "ba22a762-6bea-4976-cc62-e216315b9444",
        "colab": {
          "base_uri": "https://localhost:8080/",
          "height": 53
        }
      },
      "source": [
        "%%time\n",
        "%%capture\n",
        "num_epochs=500\n",
        "for i_layer in range(num_layers):\n",
        "  opt= optim_list[i_layer]\n",
        "  criterion = nn.MSELoss()\n",
        "  for i_epoch in range(num_epochs):\n",
        "    opt.zero_grad()\n",
        "    x_true_all_, y_all_= data_gen(200,snr=snr_train, rho=0.13)\n",
        "    x_true_all=torch.from_numpy(x_true_all_).float().to(device)\n",
        "    y_all=torch.from_numpy(y_all_).float().to(device)\n",
        "    input_x=torch.from_numpy(np.zeros_like(x_true_all_)).float().to(device)\n",
        "    outputs=model_AMP([input_x,y_all,y_all])\n",
        "    loss= criterion(outputs[i_layer][0],x_true_all)\n",
        "    #if i_epoch%5==0:\n",
        "    # print(\"layer: %2.0f i:%2.0f, loss:%f\"%(i_layer,i_epoch,loss.item()))\n",
        "    loss.backward()\n",
        "    opt.step()\n",
        "  max_iter_2=i_layer\n",
        "#   for param in model_AMP.model_list[i_layer].parameters():\n",
        "#     param.requires_grad_(False)\n",
        "   "
      ],
      "execution_count": 54,
      "outputs": [
        {
          "output_type": "stream",
          "text": [
            "CPU times: user 4min 56s, sys: 3min 19s, total: 8min 15s\n",
            "Wall time: 4min 16s\n"
          ],
          "name": "stdout"
        }
      ]
    },
    {
      "cell_type": "code",
      "metadata": {
        "id": "RcHyl5S-GJpv",
        "colab_type": "code",
        "colab": {}
      },
      "source": [
        "for i_layer in range(num_layers):\n",
        "  for param in model_AMP.model_list[i_layer].parameters():\n",
        "      param.requires_grad_(True)"
      ],
      "execution_count": 0,
      "outputs": []
    },
    {
      "cell_type": "code",
      "metadata": {
        "id": "o3xuDsUhJYLk",
        "colab_type": "code",
        "outputId": "ffa01066-21d3-4b3f-a6ae-f13e48260670",
        "colab": {
          "base_uri": "https://localhost:8080/",
          "height": 295
        }
      },
      "source": [
        "#max_iter_2=8\n",
        "def error_prob_detect(x,x_hat, thresh_x_hat=10, thresh_x=1e-2):\n",
        "    ind_x_true= (np.abs(x)>thresh_x).astype(np.float64)\n",
        "    ind_x_hat=((x_hat)>thresh_x_hat).astype(np.float64)\n",
        "    f_a= np.sum(np.abs(ind_x_hat)*(1-ind_x_true))/np.sum(1-ind_x_true)\n",
        "    m_d=np.sum(np.abs(1-ind_x_hat)*(ind_x_true))/np.sum(ind_x_true)\n",
        "    return f_a,m_d\n",
        "\n",
        "x_true_all, y_all=data_gen(1000)\n",
        "num_snr=10\n",
        "snr_list=np.linspace(0,30,num_snr)\n",
        "mse_list= [0]*max_iter_2\n",
        "rho_list=np.linspace(0.01,0.2,num_snr)\n",
        "list_lists=[mse_list,rho_list,snr_list]\n",
        "plot_index=0\n",
        "fa_list_snr= [0]*len(snr_list)\n",
        "md_list_snr=[0]*len(snr_list)\n",
        "fa_list_iter= [0]*(max_iter_2)\n",
        "md_list_iter= [0]*(max_iter_2)\n",
        "fa_list_rho= [0]*len(snr_list)\n",
        "md_list_rho=[0]*len(snr_list)\n",
        "if plot_index==0:\n",
        "  err_list= [0]*(max_iter_2)\n",
        "else:\n",
        "  err_list= [0]*len(snr_list)\n",
        "x1=np.linalg.norm(x_true_all)\n",
        "x_norm=np.mean(x_true_all**2)\n",
        "num_avg=10\n",
        "for i_list,_ in enumerate(list_lists[plot_index]):\n",
        "        n_sims_plot=500\n",
        "        if plot_index==0:\n",
        "          x_true_all_, y_all_=data_gen(n_sims_plot, snr=30, rho=0.10)\n",
        "          y_all=torch.from_numpy(y_all_).float().to(device)\n",
        "          input_x=torch.from_numpy(np.zeros_like(x_true_all_)).float().to(device)\n",
        "          outputs=model_AMP([input_x,y_all,y_all])\n",
        "          z=outputs[i_list][0].cpu().detach().numpy()\n",
        "          err_list[i_list]+= np.mean((x_true_all_-z)**2)/np.mean(x_true_all_**2)\n",
        "#           fa_list_iter[i_list], md_list_iter[i_list] = error_prob_detect(x_norm_1,z_norm, thresh_x=0.00001, thresh_x_hat=0.1)\n",
        "          \n",
        "        elif plot_index==2:\n",
        "          x_true_all, y_all=data_gen(n_sims_plot, snr=10, rho=rho_list[i_list])\n",
        "          input_x=np.zeros_like(x_true_all)\n",
        "          z=Models_list[max_iter_2].predict([input_x,y_all,y_all])\n",
        "          z_norm= norm_vector(z)\n",
        "          x_norm_1= norm_vector(x_true_all)\n",
        "          err_list[i_list]+= np.sum((x_true_all-z)**2)*(0.1)**2/(x_norm*n_sims_plot*rho_list[i_list]**2)\n",
        "          fa_list_rho[i_list], md_list_rho[i_list] = error_prob_detect(x_norm_1,z_norm, thresh_x=0.00001, thresh_x_hat=0.001)\n",
        "          \n",
        "          \n",
        "        elif plot_index==1:  \n",
        "          x_true_all, y_all=data_gen(n_sims_plot//4, snr=snr_list[i_list], rho=0.1)\n",
        "          input_x=np.zeros_like(x_true_all)\n",
        "          z=Models_list[max_iter_2].predict([input_x,y_all,y_all])\n",
        "          z_norm= norm_vector(z)\n",
        "          x_norm_1= norm_vector(x_true_all)\n",
        "          err_list[i_list]+= 2*np.sum((x_true_all-z)**2)/(x_norm*n_sims_plot)\n",
        "          fa_list_snr[i_list], md_list_snr[i_list] = error_prob_detect(x_norm_1,z_norm, thresh_x=0.00001, thresh_x_hat=0.1)\n",
        "        \n",
        "        \n",
        "\n",
        "if plot_index==0:\n",
        "  plt.semilogy(err_list)\n",
        "  plt.title('MSE vs iter at 30dB, p=0.1')\n",
        "  plt.xlabel('iter')\n",
        "  plt.ylabel('MSE')\n",
        "  plt.grid()\n",
        "\n",
        "elif plot_index==1:\n",
        "  plt.semilogy(snr_list,err_list)\n",
        "  plt.title('MSE vs SNR at p=0.1')\n",
        "  plt.xlabel('SNR')\n",
        "  plt.ylabel('MSE')\n",
        "  plt.grid()\n",
        "  \n",
        "\n",
        "elif plot_index==2:\n",
        "  plt.semilogy(rho_list,err_list)\n",
        "  plt.title('MSE vs p at SNR=30dB')\n",
        "  plt.xlabel('p')\n",
        "  plt.ylabel('MSE')\n",
        "  plt.grid()"
      ],
      "execution_count": 56,
      "outputs": [
        {
          "output_type": "display_data",
          "data": {
            "image/png": "[encoded data removed]",
            "text/plain": [
              "<Figure size 432x288 with 1 Axes>"
            ]
          },
          "metadata": {
            "tags": []
          }
        }
      ]
    },
    {
      "cell_type": "code",
      "metadata": {
        "id": "Vns-DnXvJYO_",
        "colab_type": "code",
        "colab": {}
      },
      "source": [
        ""
      ],
      "execution_count": 0,
      "outputs": []
    },
    {
      "cell_type": "code",
      "metadata": {
        "id": "y_kNNtw1JYUJ",
        "colab_type": "code",
        "colab": {}
      },
      "source": [
        ""
      ],
      "execution_count": 0,
      "outputs": []
    },
    {
      "cell_type": "code",
      "metadata": {
        "id": "1MXTzee4JYdy",
        "colab_type": "code",
        "colab": {}
      },
      "source": [
        ""
      ],
      "execution_count": 0,
      "outputs": []
    },
    {
      "cell_type": "code",
      "metadata": {
        "id": "AQvqi2CfJYgp",
        "colab_type": "code",
        "colab": {}
      },
      "source": [
        ""
      ],
      "execution_count": 0,
      "outputs": []
    },
    {
      "cell_type": "code",
      "metadata": {
        "id": "jlSijQ26JYtX",
        "colab_type": "code",
        "colab": {}
      },
      "source": [
        ""
      ],
      "execution_count": 0,
      "outputs": []
    },
    {
      "cell_type": "code",
      "metadata": {
        "id": "N5S7kSlaJYSD",
        "colab_type": "code",
        "colab": {}
      },
      "source": [
        "!nvidia-smi\n"
      ],
      "execution_count": 0,
      "outputs": []
    },
    {
      "cell_type": "markdown",
      "metadata": {
        "id": "7VDIsAid7sZi",
        "colab_type": "text"
      },
      "source": [
        ""
      ]
    },
    {
      "cell_type": "markdown",
      "metadata": {
        "id": "4dEXNMN8kfCn",
        "colab_type": "text"
      },
      "source": [
        ""
      ]
    },
    {
      "cell_type": "code",
      "metadata": {
        "id": "qMZYPn0NfgGy",
        "colab_type": "code",
        "colab": {}
      },
      "source": [
        "torch.mean?"
      ],
      "execution_count": 0,
      "outputs": []
    },
    {
      "cell_type": "code",
      "metadata": {
        "id": "4a11TD1eUWj2",
        "colab_type": "code",
        "outputId": "d2a44c81-3ea2-4a40-c5a2-e8e6e8bf8df5",
        "colab": {
          "base_uri": "https://localhost:8080/",
          "height": 231
        }
      },
      "source": [
        "model= MLP(2)\n",
        "print(model)\n",
        "model.cuda()"
      ],
      "execution_count": 0,
      "outputs": [
        {
          "output_type": "stream",
          "text": [
            "MLP(\n",
            "  (lin1): Linear(in_features=2, out_features=7, bias=True)\n",
            "  (lin2): Linear(in_features=7, out_features=5, bias=True)\n",
            "  (lin3): Linear(in_features=5, out_features=4, bias=True)\n",
            "  (sftmx): Softmax()\n",
            ")\n"
          ],
          "name": "stdout"
        },
        {
          "output_type": "execute_result",
          "data": {
            "text/plain": [
              "MLP(\n",
              "  (lin1): Linear(in_features=2, out_features=7, bias=True)\n",
              "  (lin2): Linear(in_features=7, out_features=5, bias=True)\n",
              "  (lin3): Linear(in_features=5, out_features=4, bias=True)\n",
              "  (sftmx): Softmax()\n",
              ")"
            ]
          },
          "metadata": {
            "tags": []
          },
          "execution_count": 18
        }
      ]
    },
    {
      "cell_type": "code",
      "metadata": {
        "id": "C6qEIHJfVrhJ",
        "colab_type": "code",
        "outputId": "bc31fd98-a3d2-475c-9765-d3939a467f7d",
        "colab": {
          "base_uri": "https://localhost:8080/",
          "height": 91
        }
      },
      "source": [
        "num_epochs=20\n",
        "criterion =nn.CrossEntropyLoss()\n",
        "opt= torch.optim.Adam(model.parameters(), lr=3e-1)\n",
        "for i_epoch in range(num_epochs):\n",
        "  x,y= data_gen_MLE(mean_mat,10000,0.01)\n",
        "  x= torch.from_numpy(x).type(torch.FloatTensor).to(device)\n",
        "  y= torch.from_numpy(y).type(torch.long).to(device)\n",
        "  opt.zero_grad()\n",
        "  pred= model(x)\n",
        "  loss=criterion(pred,y)\n",
        "  loss.backward()\n",
        "  opt.step()\n",
        "  if i_epoch%100==0:\n",
        "    print('i:%2.0f loss:%3.3f'%(i_epoch, loss.item()))\n",
        "#   var_list[np.random.randint(low=0, high=len(var_list))]"
      ],
      "execution_count": 0,
      "outputs": [
        {
          "output_type": "stream",
          "text": [
            "i: 0 loss:0.744\n"
          ],
          "name": "stdout"
        },
        {
          "output_type": "stream",
          "text": [
            "/usr/local/lib/python3.6/dist-packages/torch/nn/functional.py:1386: UserWarning: nn.functional.sigmoid is deprecated. Use torch.sigmoid instead.\n",
            "  warnings.warn(\"nn.functional.sigmoid is deprecated. Use torch.sigmoid instead.\")\n"
          ],
          "name": "stderr"
        }
      ]
    },
    {
      "cell_type": "code",
      "metadata": {
        "id": "57JC4mB5bRo7",
        "colab_type": "code",
        "outputId": "a03c8122-7466-452f-c4f3-a8315b32c507",
        "colab": {
          "base_uri": "https://localhost:8080/",
          "height": 525
        }
      },
      "source": [
        "var_list= np.logspace(-1,0,10)\n",
        "err_list= np.zeros(len(var_list))\n",
        "for i_var, var in enumerate(var_list):\n",
        "  x,y= data_gen_MLE(mean_mat,10000,var)\n",
        "  x_= torch.from_numpy(x).type(torch.FloatTensor).to(device)\n",
        "  y_= torch.from_numpy(y).type(torch.FloatTensor).to(device)\n",
        "\n",
        "  pred= model(x_)\n",
        "  z=np.argmax(pred.cpu().detach().numpy(), axis=1)\n",
        "  err=np.sum(y!=z)/len(y)\n",
        "  err_list[i_var]=err\n",
        "  print(err_list[i_var])\n",
        "  \n",
        "plt.loglog(1/var_list**2, err_list)\n",
        "plt.loglog(1/var_list**2, erfc(1/(2*var_list)))"
      ],
      "execution_count": 0,
      "outputs": [
        {
          "output_type": "stream",
          "text": [
            "0.0\n",
            "0.0\n",
            "0.0\n",
            "0.0013\n",
            "0.0111\n",
            "0.05\n",
            "0.1287\n",
            "0.2227\n",
            "0.3237\n",
            "0.4235\n"
          ],
          "name": "stdout"
        },
        {
          "output_type": "stream",
          "text": [
            "/usr/local/lib/python3.6/dist-packages/torch/nn/functional.py:1386: UserWarning: nn.functional.sigmoid is deprecated. Use torch.sigmoid instead.\n",
            "  warnings.warn(\"nn.functional.sigmoid is deprecated. Use torch.sigmoid instead.\")\n"
          ],
          "name": "stderr"
        },
        {
          "output_type": "execute_result",
          "data": {
            "text/plain": [
              "[<matplotlib.lines.Line2D at 0x7f670a5b3828>]"
            ]
          },
          "metadata": {
            "tags": []
          },
          "execution_count": 59
        },
        {
          "output_type": "display_data",
          "data": {
            "image/png": "[encoded data removed]",
            "text/plain": [
              "<Figure size 432x288 with 1 Axes>"
            ]
          },
          "metadata": {
            "tags": []
          }
        }
      ]
    },
    {
      "cell_type": "code",
      "metadata": {
        "id": "JkIRMGztnTYs",
        "colab_type": "code",
        "outputId": "937349aa-511a-4a23-e8f0-9fb9af53a773",
        "colab": {
          "base_uri": "https://localhost:8080/",
          "height": 53
        }
      },
      "source": [
        "var_list"
      ],
      "execution_count": 0,
      "outputs": [
        {
          "output_type": "execute_result",
          "data": {
            "text/plain": [
              "array([0.03981072, 0.05695811, 0.08149127, 0.11659144, 0.16681005,\n",
              "       0.23865898, 0.34145489, 0.48852736, 0.69894732, 1.        ])"
            ]
          },
          "metadata": {
            "tags": []
          },
          "execution_count": 49
        }
      ]
    },
    {
      "cell_type": "code",
      "metadata": {
        "id": "rYWzQD15obPV",
        "colab_type": "code",
        "outputId": "5582ef07-6348-4e23-cbb8-3e4b4287851c",
        "colab": {
          "base_uri": "https://localhost:8080/",
          "height": 35
        }
      },
      "source": [
        "np.sum(y!=z)/len(y)"
      ],
      "execution_count": 0,
      "outputs": [
        {
          "output_type": "execute_result",
          "data": {
            "text/plain": [
              "0.3902"
            ]
          },
          "metadata": {
            "tags": []
          },
          "execution_count": 220
        }
      ]
    },
    {
      "cell_type": "code",
      "metadata": {
        "id": "RbMF1NPOoiOr",
        "colab_type": "code",
        "outputId": "15d43f9a-ba82-4241-c075-bc510502ad47",
        "colab": {
          "base_uri": "https://localhost:8080/",
          "height": 124
        }
      },
      "source": [
        "net=nn.Sequential(nn.Linear(2,3),nn.ReLU(), nn.Linear(3,4), nn.Softmax(-1))\n",
        "net.to(device)"
      ],
      "execution_count": 0,
      "outputs": [
        {
          "output_type": "execute_result",
          "data": {
            "text/plain": [
              "Sequential(\n",
              "  (0): Linear(in_features=2, out_features=4, bias=True)\n",
              "  (1): ReLU()\n",
              "  (2): Linear(in_features=4, out_features=4, bias=True)\n",
              "  (3): Softmax()\n",
              ")"
            ]
          },
          "metadata": {
            "tags": []
          },
          "execution_count": 501
        }
      ]
    },
    {
      "cell_type": "code",
      "metadata": {
        "id": "pcwHalF-oj5R",
        "colab_type": "code",
        "outputId": "64eeeac8-7caa-410e-ab10-ec2668200391",
        "colab": {
          "base_uri": "https://localhost:8080/",
          "height": 189
        }
      },
      "source": [
        "net(torch.randn(10,2).to(device))\n",
        "opt= torch.optim.Adam(net.parameters(),lr=3e-4)\n",
        "\n",
        "for \n"
      ],
      "execution_count": 0,
      "outputs": [
        {
          "output_type": "error",
          "ename": "TypeError",
          "evalue": "ignored",
          "traceback": [
            "\u001b[0;31m---------------------------------------------------------------------------\u001b[0m",
            "\u001b[0;31mTypeError\u001b[0m                                 Traceback (most recent call last)",
            "\u001b[0;32m<ipython-input-503-69ea1405b576>\u001b[0m in \u001b[0;36m<module>\u001b[0;34m()\u001b[0m\n\u001b[1;32m      1\u001b[0m \u001b[0mnet\u001b[0m\u001b[0;34m(\u001b[0m\u001b[0mtorch\u001b[0m\u001b[0;34m.\u001b[0m\u001b[0mrandn\u001b[0m\u001b[0;34m(\u001b[0m\u001b[0;36m10\u001b[0m\u001b[0;34m,\u001b[0m\u001b[0;36m2\u001b[0m\u001b[0;34m)\u001b[0m\u001b[0;34m.\u001b[0m\u001b[0mto\u001b[0m\u001b[0;34m(\u001b[0m\u001b[0mdevice\u001b[0m\u001b[0;34m)\u001b[0m\u001b[0;34m)\u001b[0m\u001b[0;34m\u001b[0m\u001b[0;34m\u001b[0m\u001b[0m\n\u001b[0;32m----> 2\u001b[0;31m \u001b[0mopt\u001b[0m\u001b[0;34m=\u001b[0m \u001b[0mtorch\u001b[0m\u001b[0;34m.\u001b[0m\u001b[0moptim\u001b[0m\u001b[0;34m.\u001b[0m\u001b[0mAdam\u001b[0m\u001b[0;34m(\u001b[0m\u001b[0;34m)\u001b[0m\u001b[0;34m\u001b[0m\u001b[0;34m\u001b[0m\u001b[0m\n\u001b[0m",
            "\u001b[0;31mTypeError\u001b[0m: __init__() missing 1 required positional argument: 'params'"
          ]
        }
      ]
    },
    {
      "cell_type": "code",
      "metadata": {
        "id": "wpQYoiuFq-8Y",
        "colab_type": "code",
        "colab": {}
      },
      "source": [
        "a= torch.randn(5,6,7)\n",
        "b= torch.randn(7,5,6)\n",
        "c= torch.einsum('ijk,aic->kac',a,b)"
      ],
      "execution_count": 0,
      "outputs": []
    },
    {
      "cell_type": "code",
      "metadata": {
        "id": "8YZ6bTfBAnnK",
        "colab_type": "code",
        "outputId": "1b1044ce-3490-4aef-c965-55e4e85fb169",
        "colab": {
          "base_uri": "https://localhost:8080/",
          "height": 35
        }
      },
      "source": [
        "(torch.ones(3,requires_grad=True)>2).float()"
      ],
      "execution_count": 0,
      "outputs": [
        {
          "output_type": "execute_result",
          "data": {
            "text/plain": [
              "tensor([0., 0., 0.])"
            ]
          },
          "metadata": {
            "tags": []
          },
          "execution_count": 393
        }
      ]
    },
    {
      "cell_type": "code",
      "metadata": {
        "id": "ZhNRftOvhJ5c",
        "colab_type": "code",
        "outputId": "8a36d262-28a1-475e-ed87-8f20dfdccd35",
        "colab": {
          "base_uri": "https://localhost:8080/",
          "height": 35
        }
      },
      "source": [
        "c.shape"
      ],
      "execution_count": 0,
      "outputs": [
        {
          "output_type": "execute_result",
          "data": {
            "text/plain": [
              "torch.Size([7, 7, 6])"
            ]
          },
          "metadata": {
            "tags": []
          },
          "execution_count": 58
        }
      ]
    },
    {
      "cell_type": "code",
      "metadata": {
        "id": "YAc9WYfaLBE9",
        "colab_type": "code",
        "colab": {}
      },
      "source": [
        ""
      ],
      "execution_count": 0,
      "outputs": []
    }
  ]
}